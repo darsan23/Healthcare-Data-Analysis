{
 "cells": [
  {
   "cell_type": "code",
   "execution_count": 0,
   "metadata": {
    "application/vnd.databricks.v1+cell": {
     "cellMetadata": {
      "byteLimit": 2048000,
      "rowLimit": 10000
     },
     "inputWidgets": {},
     "nuid": "d4782241-47e6-445d-abdb-36eab71b266d",
     "showTitle": false,
     "title": ""
    }
   },
   "outputs": [
    {
     "output_type": "stream",
     "name": "stdout",
     "output_type": "stream",
     "text": [
      "root\n |-- Claim_Or_Rejected: string (nullable = true)\n |-- SUB_ID: string (nullable = true)\n |-- claim_amount: string (nullable = true)\n |-- claim_date: string (nullable = true)\n |-- claim_id: long (nullable = true)\n |-- claim_type: string (nullable = true)\n |-- disease_name: string (nullable = true)\n |-- patient_id: long (nullable = true)\n\nroot\n |-- sub _id: string (nullable = true)\n |-- first_name: string (nullable = true)\n |-- last_name: string (nullable = true)\n |-- Street: string (nullable = true)\n |-- Birth_date: date (nullable = true)\n |-- Gender: string (nullable = true)\n |-- Phone: string (nullable = true)\n |-- Country: string (nullable = true)\n |-- City: string (nullable = true)\n |-- Zip Code: integer (nullable = true)\n |-- Subgrp_id: string (nullable = true)\n |-- Elig_ind: string (nullable = true)\n |-- eff_date: date (nullable = true)\n |-- term_date: date (nullable = true)\n\nroot\n |-- SubGrp_ID: string (nullable = true)\n |-- Grp_Id: string (nullable = true)\n\nroot\n |-- Hospital_id: string (nullable = true)\n |-- Hospital_name: string (nullable = true)\n |-- city: string (nullable = true)\n |-- state: string (nullable = true)\n |-- country: string (nullable = true)\n\nroot\n |-- Patient_id: integer (nullable = true)\n |-- Patient_name: string (nullable = true)\n |-- patient_gender: string (nullable = true)\n |-- patient_birth_date: date (nullable = true)\n |-- patient_phone: string (nullable = true)\n |-- disease_name: string (nullable = true)\n |-- city: string (nullable = true)\n |-- hospital_id: string (nullable = true)\n\n"
     ]
    }
   ],
   "source": [
    "# Create Spark session\n",
    "spark = SparkSession.builder.appName(\"HealthCareAnalysis\").getOrCreate()\n",
    "\n",
    "# Load datasets from Filestore\n",
    "claims = spark.read.json(\"/FileStore/tables/claims-2.json\")\n",
    "disease = spark.read.csv(\"/FileStore/tables/disease-2.csv\", header=True, inferSchema=True)\n",
    "group = spark.read.csv(\"/FileStore/tables/group-2.csv\", header=True, inferSchema=True)\n",
    "grpsubgrp = spark.read.csv(\"/FileStore/tables/grpsubgrp-2.csv\", header=True, inferSchema=True)\n",
    "hospital = spark.read.csv(\"/FileStore/tables/hospital-2.csv\", header=True, inferSchema=True)\n",
    "patient_records = spark.read.csv(\"/FileStore/tables/Patient_records-2.csv\", header=True, inferSchema=True)\n",
    "subgroup = spark.read.csv(\"/FileStore/tables/subgroup-2.csv\", header=True, inferSchema=True)\n",
    "subscriber = spark.read.csv(\"/FileStore/tables/subscriber-2.csv\", header=True, inferSchema=True)\n",
    "\n",
    "# Show schema of each DataFrame to verify column names\n",
    "claims.printSchema()\n",
    "subscriber.printSchema()\n",
    "grpsubgrp.printSchema()\n",
    "hospital.printSchema()\n",
    "patient_records.printSchema()\n"
   ]
  },
  {
   "cell_type": "code",
   "execution_count": 0,
   "metadata": {
    "application/vnd.databricks.v1+cell": {
     "cellMetadata": {
      "byteLimit": 2048000,
      "rowLimit": 10000
     },
     "inputWidgets": {},
     "nuid": "725081c4-01f7-48cb-9dd0-dc8c9be3aeef",
     "showTitle": false,
     "title": ""
    }
   },
   "outputs": [
    {
     "output_type": "stream",
     "name": "stdout",
     "output_type": "stream",
     "text": [
      "+------------+-----+\n|disease_name|count|\n+------------+-----+\n| Pet allergy|    3|\n+------------+-----+\n\n"
     ]
    }
   ],
   "source": [
    "# Query to find the disease with the maximum number of claims\n",
    "disease_max_claims = claims.groupBy(\"disease_name\").count().orderBy(\"count\", ascending=False).limit(1)\n",
    "disease_max_claims.show()\n"
   ]
  },
  {
   "cell_type": "code",
   "execution_count": 0,
   "metadata": {
    "application/vnd.databricks.v1+cell": {
     "cellMetadata": {
      "byteLimit": 2048000,
      "rowLimit": 10000
     },
     "inputWidgets": {},
     "nuid": "ea9b2782-7d7b-4c52-b5d0-ee3e403cee2e",
     "showTitle": false,
     "title": ""
    }
   },
   "outputs": [
    {
     "output_type": "stream",
     "name": "stdout",
     "output_type": "stream",
     "text": [
      "Out[22]: ('Pet allergy', 3)"
     ]
    }
   ],
   "source": [
    "# Find the disease with the maximum number of claims\n",
    "disease_max_claims = claims.groupBy(\"disease_name\").count().orderBy(\"count\", ascending=False).first()\n",
    "disease_max_claims_disease = disease_max_claims['disease_name']\n",
    "disease_max_claims_count = disease_max_claims['count']\n",
    "disease_max_claims_disease, disease_max_claims_count\n"
   ]
  },
  {
   "cell_type": "code",
   "execution_count": 0,
   "metadata": {
    "application/vnd.databricks.v1+cell": {
     "cellMetadata": {
      "byteLimit": 2048000,
      "rowLimit": 10000
     },
     "inputWidgets": {},
     "nuid": "91bd363d-3c46-40cd-9f8d-b07672505ac1",
     "showTitle": false,
     "title": ""
    }
   },
   "outputs": [
    {
     "output_type": "stream",
     "name": "stdout",
     "output_type": "stream",
     "text": [
      "root\n |-- Claim_Or_Rejected: string (nullable = true)\n |-- SUB_ID: string (nullable = true)\n |-- claim_amount: string (nullable = true)\n |-- claim_date: string (nullable = true)\n |-- claim_id: long (nullable = true)\n |-- claim_type: string (nullable = true)\n |-- disease_name: string (nullable = true)\n |-- patient_id: long (nullable = true)\n\nroot\n |-- sub _id: string (nullable = true)\n |-- first_name: string (nullable = true)\n |-- last_name: string (nullable = true)\n |-- Street: string (nullable = true)\n |-- Birth_date: date (nullable = true)\n |-- Gender: string (nullable = true)\n |-- Phone: string (nullable = true)\n |-- Country: string (nullable = true)\n |-- City: string (nullable = true)\n |-- Zip Code: integer (nullable = true)\n |-- Subgrp_id: string (nullable = true)\n |-- Elig_ind: string (nullable = true)\n |-- eff_date: date (nullable = true)\n |-- term_date: date (nullable = true)\n\nroot\n |-- SubGrp_ID: string (nullable = true)\n |-- Grp_Id: string (nullable = true)\n\nroot\n |-- Hospital_id: string (nullable = true)\n |-- Hospital_name: string (nullable = true)\n |-- city: string (nullable = true)\n |-- state: string (nullable = true)\n |-- country: string (nullable = true)\n\nroot\n |-- Patient_id: integer (nullable = true)\n |-- Patient_name: string (nullable = true)\n |-- patient_gender: string (nullable = true)\n |-- patient_birth_date: date (nullable = true)\n |-- patient_phone: string (nullable = true)\n |-- disease_name: string (nullable = true)\n |-- city: string (nullable = true)\n |-- hospital_id: string (nullable = true)\n\n"
     ]
    }
   ],
   "source": [
    "# Reimport necessary libraries\n",
    "from pyspark.sql import SparkSession\n",
    "from pyspark.sql.functions import col, avg, sum, date_sub, current_date\n",
    "\n",
    "# Create Spark session\n",
    "spark = SparkSession.builder.appName(\"HealthCareAnalysis\").getOrCreate()\n",
    "\n",
    "# Load datasets from Filestore\n",
    "claims = spark.read.json(\"/FileStore/tables/claims-2.json\")\n",
    "disease = spark.read.csv(\"/FileStore/tables/disease-2.csv\", header=True, inferSchema=True)\n",
    "group = spark.read.csv(\"/FileStore/tables/group-2.csv\", header=True, inferSchema=True)\n",
    "grpsubgrp = spark.read.csv(\"/FileStore/tables/grpsubgrp-2.csv\", header=True, inferSchema=True)\n",
    "hospital = spark.read.csv(\"/FileStore/tables/hospital-2.csv\", header=True, inferSchema=True)\n",
    "patient_records = spark.read.csv(\"/FileStore/tables/Patient_records-2.csv\", header=True, inferSchema=True)\n",
    "subgroup = spark.read.csv(\"/FileStore/tables/subgroup-2.csv\", header=True, inferSchema=True)\n",
    "subscriber = spark.read.csv(\"/FileStore/tables/subscriber-2.csv\", header=True, inferSchema=True)\n",
    "\n",
    "# Show schema of each DataFrame to verify column names\n",
    "claims.printSchema()\n",
    "subscriber.printSchema()\n",
    "grpsubgrp.printSchema()\n",
    "hospital.printSchema()\n",
    "patient_records.printSchema()\n"
   ]
  },
  {
   "cell_type": "code",
   "execution_count": 0,
   "metadata": {
    "application/vnd.databricks.v1+cell": {
     "cellMetadata": {
      "byteLimit": 2048000,
      "rowLimit": 10000
     },
     "inputWidgets": {},
     "nuid": "fb0297c8-c04a-4808-9b38-168497949f26",
     "showTitle": false,
     "title": ""
    }
   },
   "outputs": [
    {
     "output_type": "stream",
     "name": "stdout",
     "output_type": "stream",
     "text": [
      "Out[25]: ('Pet allergy', 3)"
     ]
    }
   ],
   "source": [
    "# Find the disease with the maximum number of claims\n",
    "disease_max_claims = claims.groupBy(\"disease_name\").count().orderBy(\"count\", ascending=False).first()\n",
    "disease_max_claims_disease = disease_max_claims['disease_name']\n",
    "disease_max_claims_count = disease_max_claims['count']\n",
    "disease_max_claims_disease, disease_max_claims_count\n"
   ]
  },
  {
   "cell_type": "code",
   "execution_count": 0,
   "metadata": {
    "application/vnd.databricks.v1+cell": {
     "cellMetadata": {
      "byteLimit": 2048000,
      "rowLimit": 10000
     },
     "inputWidgets": {},
     "nuid": "8c982c2f-2c2a-4a59-b21c-db0925de6fe5",
     "showTitle": false,
     "title": ""
    }
   },
   "outputs": [
    {
     "output_type": "stream",
     "name": "stdout",
     "output_type": "stream",
     "text": [
      "Out[26]: 1"
     ]
    }
   ],
   "source": [
    "# Find subscribers who are aged less than 30 and have subscribed to any subgroup\n",
    "from pyspark.sql.functions import current_date, datediff\n",
    "\n",
    "# Calculate the age based on Birth_date and filter subscribers under 30\n",
    "subscribers_under_30 = subscriber.join(claims, subscriber[\"sub _id\"] == claims[\"SUB_ID\"]) \\\n",
    "                                  .filter(datediff(current_date(), subscriber[\"Birth_date\"]) / 365 < 30) \\\n",
    "                                  .select(subscriber[\"sub _id\"]).distinct().count()\n",
    "subscribers_under_30\n"
   ]
  },
  {
   "cell_type": "code",
   "execution_count": 0,
   "metadata": {
    "application/vnd.databricks.v1+cell": {
     "cellMetadata": {
      "byteLimit": 2048000,
      "rowLimit": 10000
     },
     "inputWidgets": {},
     "nuid": "2a893566-9342-41ac-b1b1-7c9d2635182c",
     "showTitle": false,
     "title": ""
    }
   },
   "outputs": [
    {
     "output_type": "stream",
     "name": "stdout",
     "output_type": "stream",
     "text": [
      "Out[27]: ('GRP104', 2)"
     ]
    }
   ],
   "source": [
    "# Find the group with the maximum number of subgroups\n",
    "group_max_subgroups = grpsubgrp.groupBy(\"Grp_Id\").count().orderBy(\"count\", ascending=False).first()\n",
    "group_max_subgroups_group = group_max_subgroups['Grp_Id']\n",
    "group_max_subgroups_count = group_max_subgroups['count']\n",
    "group_max_subgroups_group, group_max_subgroups_count\n"
   ]
  },
  {
   "cell_type": "code",
   "execution_count": 0,
   "metadata": {
    "application/vnd.databricks.v1+cell": {
     "cellMetadata": {
      "byteLimit": 2048000,
      "rowLimit": 10000
     },
     "inputWidgets": {},
     "nuid": "d58604d0-f4c4-455f-b639-9b6ef8ccaa79",
     "showTitle": false,
     "title": ""
    }
   },
   "outputs": [
    {
     "output_type": "stream",
     "name": "stdout",
     "output_type": "stream",
     "text": [
      "Out[28]: ('H1017', 9)"
     ]
    }
   ],
   "source": [
    "# Find the hospital that serves the most patients\n",
    "hospital_max_patients = patient_records.groupBy(\"hospital_id\").count().orderBy(\"count\", ascending=False).first()\n",
    "hospital_max_patients_hospital = hospital_max_patients['hospital_id']\n",
    "hospital_max_patients_count = hospital_max_patients['count']\n",
    "hospital_max_patients_hospital, hospital_max_patients_count\n"
   ]
  },
  {
   "cell_type": "code",
   "execution_count": 0,
   "metadata": {
    "application/vnd.databricks.v1+cell": {
     "cellMetadata": {
      "byteLimit": 2048000,
      "rowLimit": 10000
     },
     "inputWidgets": {},
     "nuid": "285c1417-16d3-41bf-8633-567ca261ff31",
     "showTitle": false,
     "title": ""
    }
   },
   "outputs": [
    {
     "output_type": "stream",
     "name": "stdout",
     "output_type": "stream",
     "text": [
      "Out[29]: ('S106', 5)"
     ]
    }
   ],
   "source": [
    "# Find the subgroups that are subscribed to the most\n",
    "subgroup_max_subscriptions = grpsubgrp.groupBy(\"SubGrp_ID\").count().orderBy(\"count\", ascending=False).first()\n",
    "subgroup_max_subscriptions_subgroup = subgroup_max_subscriptions['SubGrp_ID']\n",
    "subgroup_max_subscriptions_count = subgroup_max_subscriptions['count']\n",
    "subgroup_max_subscriptions_subgroup, subgroup_max_subscriptions_count\n"
   ]
  },
  {
   "cell_type": "code",
   "execution_count": 0,
   "metadata": {
    "application/vnd.databricks.v1+cell": {
     "cellMetadata": {
      "byteLimit": 2048000,
      "rowLimit": 10000
     },
     "inputWidgets": {},
     "nuid": "f728fe26-312f-4367-b476-d5829515200e",
     "showTitle": false,
     "title": ""
    }
   },
   "outputs": [
    {
     "output_type": "stream",
     "name": "stdout",
     "output_type": "stream",
     "text": [
      "Out[30]: 18"
     ]
    }
   ],
   "source": [
    "# Find the total number of claims that were rejected\n",
    "rejected_claims_count = claims.filter(claims[\"Claim_Or_Rejected\"] == 'Y').count()\n",
    "rejected_claims_count\n"
   ]
  },
  {
   "cell_type": "code",
   "execution_count": 0,
   "metadata": {
    "application/vnd.databricks.v1+cell": {
     "cellMetadata": {
      "byteLimit": 2048000,
      "rowLimit": 10000
     },
     "inputWidgets": {},
     "nuid": "2076ea47-004d-464b-bd47-d268b6931741",
     "showTitle": false,
     "title": ""
    }
   },
   "outputs": [
    {
     "output_type": "stream",
     "name": "stdout",
     "output_type": "stream",
     "text": [
      "Out[32]: ('Mysore', 2)"
     ]
    }
   ],
   "source": [
    "# Find the city from which the most claims are coming\n",
    "city_max_claims = patient_records.groupBy(\"city\").count().orderBy(\"count\", ascending=False).first()\n",
    "city_max_claims_city = city_max_claims['city']\n",
    "city_max_claims_count = city_max_claims['count']\n",
    "city_max_claims_city, city_max_claims_count\n"
   ]
  },
  {
   "cell_type": "code",
   "execution_count": 0,
   "metadata": {
    "application/vnd.databricks.v1+cell": {
     "cellMetadata": {
      "byteLimit": 2048000,
      "rowLimit": 10000
     },
     "inputWidgets": {},
     "nuid": "3b61e645-e0d3-415e-beed-57e3a358f1a8",
     "showTitle": false,
     "title": ""
    }
   },
   "outputs": [
    {
     "output_type": "stream",
     "name": "stdout",
     "output_type": "stream",
     "text": [
      "Out[33]: ('N', 50)"
     ]
    }
   ],
   "source": [
    "# Find out which groups of policies subscribers subscribe to the most: Government or private\n",
    "policy_type_max_subscriptions = subscriber.groupBy(\"Elig_ind\").count().orderBy(\"count\", ascending=False).first()\n",
    "policy_type_max_subscriptions_type = policy_type_max_subscriptions['Elig_ind']\n",
    "policy_type_max_subscriptions_count = policy_type_max_subscriptions['count']\n",
    "policy_type_max_subscriptions_type, policy_type_max_subscriptions_count\n"
   ]
  },
  {
   "cell_type": "code",
   "execution_count": 0,
   "metadata": {
    "application/vnd.databricks.v1+cell": {
     "cellMetadata": {
      "byteLimit": 2048000,
      "rowLimit": 10000
     },
     "inputWidgets": {},
     "nuid": "3c78c73f-6c23-488f-9587-a5e30ec0fc40",
     "showTitle": false,
     "title": ""
    }
   },
   "outputs": [
    {
     "output_type": "stream",
     "name": "stdout",
     "output_type": "stream",
     "text": [
      "The average monthly premium subscribers pay to the insurance company is 1870.0.\n"
     ]
    }
   ],
   "source": [
    "# Calculate the average monthly premium\n",
    "average_monthly_premium = subgroup.agg(avg(\"Monthly_Premium\")).first()[0]\n",
    "print(f\"The average monthly premium subscribers pay to the insurance company is {average_monthly_premium}.\")\n"
   ]
  },
  {
   "cell_type": "code",
   "execution_count": 0,
   "metadata": {
    "application/vnd.databricks.v1+cell": {
     "cellMetadata": {
      "byteLimit": 2048000,
      "rowLimit": 10000
     },
     "inputWidgets": {},
     "nuid": "20a77e66-55ad-47f5-907f-1454218fdf17",
     "showTitle": false,
     "title": ""
    }
   },
   "outputs": [
    {
     "output_type": "stream",
     "name": "stdout",
     "output_type": "stream",
     "text": [
      "+----------+------------+\n|    SUB_ID|claim_amount|\n+----------+------------+\n| SUBID1000|       79874|\n|SUBID10001|      151142|\n|SUBID10002|       59924|\n|SUBID10003|      143120|\n|SUBID10004|      168634|\n|SUBID10005|       64840|\n| SUBID1006|       26800|\n|SUBID10007|      177186|\n|SUBID10008|      141123|\n|SUBID10009|       88540|\n+----------+------------+\nonly showing top 10 rows\n\n+---------+------+\n|SubGrp_ID|Grp_Id|\n+---------+------+\n|     S101|GRP101|\n|     S101|GRP105|\n|     S102|GRP110|\n|     S102|GRP150|\n|     S102|GRP136|\n|     S103|GRP122|\n|     S103|GRP108|\n|     S103|GRP138|\n|     S103|GRP148|\n|     S104|GRP103|\n+---------+------+\nonly showing top 10 rows\n\nNumber of records in claims dataset: 70\nNumber of records in grpsubgrp dataset: 38\nNumber of null SUB_IDs in claims dataset: 0\nNumber of null SubGrp_IDs in grpsubgrp dataset: 0\n+-----------------+------+------------+----------+--------+----------+------------+----------+---------+------+\n|Claim_Or_Rejected|SUB_ID|claim_amount|claim_date|claim_id|claim_type|disease_name|patient_id|SubGrp_ID|Grp_Id|\n+-----------------+------+------------+----------+--------+----------+------------+----------+---------+------+\n+-----------------+------+------------+----------+--------+----------+------------+----------+---------+------+\n\nNumber of matching records after join: 0\nNo result found for the most profitable group.\n"
     ]
    }
   ],
   "source": [
    "# Import necessary libraries\n",
    "from pyspark.sql import SparkSession\n",
    "from pyspark.sql.functions import col, sum as _sum, trim\n",
    "\n",
    "# Create Spark session\n",
    "spark = SparkSession.builder.appName(\"HealthCareAnalysis\").getOrCreate()\n",
    "\n",
    "# Load datasets from Filestore\n",
    "claims_df = spark.read.json(\"/FileStore/tables/claims-2.json\")\n",
    "grpsubgrp_df = spark.read.csv(\"/FileStore/tables/grpsubgrp-2.csv\", header=True, inferSchema=True)\n",
    "\n",
    "# Display a few records from each dataset to inspect SUB_ID and SubGrp_ID values\n",
    "claims_df.select(\"SUB_ID\", \"claim_amount\").show(10)\n",
    "grpsubgrp_df.select(\"SubGrp_ID\", \"Grp_Id\").show(10)\n",
    "\n",
    "# Check the number of records in both datasets\n",
    "claims_count = claims_df.count()\n",
    "grpsubgrp_count = grpsubgrp_df.count()\n",
    "print(f\"Number of records in claims dataset: {claims_count}\")\n",
    "print(f\"Number of records in grpsubgrp dataset: {grpsubgrp_count}\")\n",
    "\n",
    "# Check for null values in the join columns\n",
    "null_sub_id_claims = claims_df.filter(col(\"SUB_ID\").isNull()).count()\n",
    "null_subgrp_id_grpsubgrp = grpsubgrp_df.filter(col(\"SubGrp_ID\").isNull()).count()\n",
    "print(f\"Number of null SUB_IDs in claims dataset: {null_sub_id_claims}\")\n",
    "print(f\"Number of null SubGrp_IDs in grpsubgrp dataset: {null_subgrp_id_grpsubgrp}\")\n",
    "\n",
    "# Trim whitespace from SUB_ID and SubGrp_ID columns\n",
    "claims_df = claims_df.withColumn(\"SUB_ID\", trim(col(\"SUB_ID\")))\n",
    "grpsubgrp_df = grpsubgrp_df.withColumn(\"SubGrp_ID\", trim(col(\"SubGrp_ID\")))\n",
    "\n",
    "# Perform the join again and inspect\n",
    "joined_df = claims_df.join(grpsubgrp_df, claims_df[\"SUB_ID\"] == grpsubgrp_df[\"SubGrp_ID\"], \"inner\")\n",
    "joined_df.show(10)\n",
    "\n",
    "# Count the number of matching records\n",
    "joined_count = joined_df.count()\n",
    "print(f\"Number of matching records after join: {joined_count}\")\n",
    "\n",
    "# Find out which group is the most profitable based on the total claim amount\n",
    "result = joined_df.groupBy(\"Grp_Id\") \\\n",
    "                  .agg(_sum(\"claim_amount\").alias(\"total_claim_amount\")) \\\n",
    "                  .orderBy(\"total_claim_amount\", ascending=False) \\\n",
    "                  .first()\n",
    "\n",
    "if result:\n",
    "    group_most_profitable_group = result['Grp_Id']\n",
    "    group_most_profitable_amount = result['total_claim_amount']\n",
    "    print(f\"The most profitable group is {group_most_profitable_group} with a total claim amount of {group_most_profitable_amount}.\")\n",
    "else:\n",
    "    print(\"No result found for the most profitable group.\")\n"
   ]
  }
 ],
 "metadata": {
  "application/vnd.databricks.v1+notebook": {
   "dashboards": [],
   "environmentMetadata": null,
   "language": "python",
   "notebookMetadata": {
    "mostRecentlyExecutedCommandWithImplicitDF": {
     "commandId": 775696618644272,
     "dataframes": [
      "_sqldf"
     ]
    },
    "pythonIndentUnit": 4
   },
   "notebookName": "2024-07-15 - DBFS Example",
   "widgets": {}
  }
 },
 "nbformat": 4,
 "nbformat_minor": 0
}
